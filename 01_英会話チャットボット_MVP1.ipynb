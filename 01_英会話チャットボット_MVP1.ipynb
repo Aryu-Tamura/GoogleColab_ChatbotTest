{
  "nbformat": 4,
  "nbformat_minor": 0,
  "metadata": {
    "colab": {
      "private_outputs": true,
      "provenance": [],
      "authorship_tag": "ABX9TyNYZj6yk9Kz9v1ceWsLiiYX",
      "include_colab_link": true
    },
    "kernelspec": {
      "name": "python3",
      "display_name": "Python 3"
    },
    "language_info": {
      "name": "python"
    }
  },
  "cells": [
    {
      "cell_type": "markdown",
      "metadata": {
        "id": "view-in-github",
        "colab_type": "text"
      },
      "source": [
        "<a href=\"https://colab.research.google.com/github/Aryu-Tamura/GoogleColab_ChatbotTest/blob/main/01_%E8%8B%B1%E4%BC%9A%E8%A9%B1%E3%83%81%E3%83%A3%E3%83%83%E3%83%88%E3%83%9C%E3%83%83%E3%83%88_MVP1.ipynb\" target=\"_parent\"><img src=\"https://colab.research.google.com/assets/colab-badge.svg\" alt=\"Open In Colab\"/></a>"
      ]
    },
    {
      "cell_type": "markdown",
      "source": [
        "##**MVP1: シンプルなテキスト英会話ボット**\n",
        "\n",
        "目的: テキストでAI（英語教師）と簡単な会話ができる最小限のWebアプリを作ります。（AIへの指示は日本語、例文は英語）\n",
        "\n",
        "手順:\n",
        "\n",
        "1. 必要なライブラリをインストールします。\n",
        "2. ライブラリを読み込みます。\n",
        "3. OpenAI APIキーを設定します。\n",
        "4. まずは関数化せずに、直接APIを呼び出して動作を確認します。\n",
        "5. PI呼び出し部分を関数にします。\n",
        "6. 作成した関数をテストします。\n",
        "7. Gradioを使ってWebアプリの見た目（UI）を作ります。\n",
        "8. Webアプリを起動します。\n",
        "\n",
        "------------------------------\n",
        "\n",
        "\n",
        "1. ライブラリのインストール\n",
        "\n",
        "（このセルを実行すると、プログラムに必要な部品（ライブラリ）が準備されます）"
      ],
      "metadata": {
        "id": "SrpQP3imzYj7"
      }
    },
    {
      "cell_type": "code",
      "execution_count": null,
      "metadata": {
        "id": "Yx_1kBG1zVlz"
      },
      "outputs": [],
      "source": [
        "!pip install openai\n",
        "!pip install gradio"
      ]
    },
    {
      "cell_type": "markdown",
      "source": [
        "------------------\n",
        "\n",
        "2. ライブラリのインポート\n",
        "\n",
        "（インストールした部品を使えるように読み込みます）"
      ],
      "metadata": {
        "id": "yhN6R264z7QJ"
      }
    },
    {
      "cell_type": "code",
      "source": [
        "import gradio as gr\n",
        "import openai"
      ],
      "metadata": {
        "id": "USbW3lBGz_wA"
      },
      "execution_count": null,
      "outputs": []
    },
    {
      "cell_type": "markdown",
      "source": [
        "----------------------\n",
        "\n",
        "\n",
        "3. OpenAI APIキーの設定\n",
        "\n",
        "（OpenAIのサービスを使うための「鍵」を設定します。ColabのSecrets機能を使うのが安全です）\n",
        "※事前にColabの左メニュー(🔑)で `OPENAI_API_KEY` という名前でAPIキーを設定しておいてください。\n",
        "\n"
      ],
      "metadata": {
        "id": "RpZ8zjH_0EXN"
      }
    },
    {
      "cell_type": "code",
      "source": [
        "from google.colab import userdata # APIキーを安全に読み込むため\n",
        "key = userdata.get('OPENAI_API_KEY')\n",
        "client = openai.OpenAI(api_key=key)"
      ],
      "metadata": {
        "id": "B1FTzXnF1Wj7"
      },
      "execution_count": null,
      "outputs": []
    },
    {
      "cell_type": "markdown",
      "source": [
        "---------------------\n",
        "\n",
        "\n",
        "4. API直接呼び出しテスト\n",
        "\n",
        "（関数を作る前に、直接APIを呼び出して、AIが応答するか試してみます）\n",
        "\n",
        "4-1. AIへの指示（システムプロンプト）とユーザー入力を設定"
      ],
      "metadata": {
        "id": "wImgcnUc0MM4"
      }
    },
    {
      "cell_type": "code",
      "source": [
        "# AIの役割や話し方を指示します (システムプロンプト：指示は日本語、例文は英語)\n",
        "system_prompt = \"\"\"あなたは、ユーザーと自然で流暢な英会話を行うAI英語教師です。\n",
        "\n",
        "# あなたの役割\n",
        "- ユーザーの英語力向上のために、自然で日常的な英会話を行ってください。\n",
        "- ユーザーの英語表現や文法に間違いがあれば、会話の流れを止めないように、自然な形で指摘し、より適切な表現を提案してください。\n",
        "- ユーザーの質問や発言には、共感的に、そして前向きな態度で応答してください。\n",
        "\n",
        "# 回答の形式\n",
        "- 会話は常に英語で行ってください。日本語で応答してはいけません。\n",
        "- 回答は、原則として短く（1～3文程度）、自然な口語表現を使ってください。\n",
        "- ユーザーが文法や表現のミスをした場合は、以下のような形式で訂正例を示してください。\n",
        "  例 (Example): User: \"I goed to park yesterday.\" AI: \"Oh, nice! You mean, 'I went to the park yesterday,' right?\"\n",
        "\n",
        "# 入出力の例 (Input/Output Examples)\n",
        "User: \"Hello! How was your day?\" AI: \"Hey! My day's going great, thanks for asking. How about you?\"\n",
        "User: \"I'm study English today.\" AI: \"That's great! Just a quick tip: you'd say, 'I'm studying English today.' What are you working on right now?\"\n",
        "User: \"Can you help me about grammar?\" AI: \"Of course! I'd say, 'Can you help me with grammar?' Sure thing! What grammar point do you want to talk about?\" \"\"\"\n",
        "\n",
        "# ユーザーがAIに話しかける内容 (ユーザー入力)\n",
        "user_input = \"Hello! I want to practice English conversation.\"\n",
        "\n",
        "# APIに渡すメッセージリストを作成 (システム指示 + ユーザー入力)\n",
        "messages = [\n",
        "    {\"role\": \"system\", \"content\": system_prompt},\n",
        "    {\"role\": \"user\", \"content\": user_input}\n",
        "]\n",
        "\n",
        "print(\"AIへの指示とユーザー入力の準備完了。\")"
      ],
      "metadata": {
        "id": "4BdjWBhh0P5e"
      },
      "execution_count": null,
      "outputs": []
    },
    {
      "cell_type": "markdown",
      "source": [
        "4-2. OpenAI APIを呼び出して応答を取得\n",
        "\n"
      ],
      "metadata": {
        "id": "sNhyAs800SXx"
      }
    },
    {
      "cell_type": "code",
      "source": [
        "# OpenAI API (Chat Completions) を呼び出します\n",
        "response = client.chat.completions.create(\n",
        "    model=\"gpt-3.5-turbo\",  # 使用するAIモデル\n",
        "    messages=messages,      # 上で準備したメッセージリスト\n",
        "    max_tokens=100,         # 応答の長さの上限（だいたい）\n",
        "    temperature=0.7         # 応答の多様性（0に近いほど毎回同じ、1に近いほど変化）\n",
        ")\n",
        "\n",
        "print(\"APIから応答を受け取りました。\")"
      ],
      "metadata": {
        "id": "eCK5Fn7D0TbO"
      },
      "execution_count": null,
      "outputs": []
    },
    {
      "cell_type": "markdown",
      "source": [
        "4-3. API応答の中身を確認\n",
        "\n"
      ],
      "metadata": {
        "id": "J1Ynx6h90XCv"
      }
    },
    {
      "cell_type": "code",
      "source": [
        "# 応答の中から、AIが生成したメッセージ部分を取り出す\n",
        "ai_message_content = response.choices[0].message.content\n",
        "print(ai_message_content) #user_inputに対する返答"
      ],
      "metadata": {
        "id": "EbdXaXcO0XcP"
      },
      "execution_count": null,
      "outputs": []
    },
    {
      "cell_type": "markdown",
      "source": [
        "---------------------\n",
        "\n",
        "\n",
        "5. 関数化\n",
        "\n",
        "（API呼び出しのコードを、使いやすいように一つの関数にまとめます）"
      ],
      "metadata": {
        "id": "uOMz1vdZ0aLK"
      }
    },
    {
      "cell_type": "code",
      "source": [
        "def english_teacher_bot(user_input):\n",
        "    \"\"\"\n",
        "    ユーザーからの入力(user_input)を受け取り、\n",
        "    英語教師AIとして応答を返す関数。\n",
        "    \"\"\"\n",
        "    # AIの役割設定 (システムプロンプト：指示は日本語、例文は英語) - 関数の中で定義\n",
        "    system_prompt = \"\"\"あなたは、ユーザーと自然で流暢な英会話を行うAI英語教師です。\n",
        "\n",
        "# あなたの役割\n",
        "- ユーザーの英語力向上のために、自然で日常的な英会話を行ってください。\n",
        "- ユーザーの英語表現や文法に間違いがあれば、会話の流れを止めないように、自然な形で指摘し、より適切な表現を提案してください。\n",
        "- ユーザーの質問や発言には、共感的に、そして前向きな態度で応答してください。\n",
        "\n",
        "# 回答の形式\n",
        "- 会話は常に英語で行ってください。日本語で応答してはいけません。\n",
        "- 回答は、原則として短く（1～3文程度）、自然な口語表現を使ってください。\n",
        "- ユーザーが文法や表現のミスをした場合は、以下のような形式で訂正例を示してください。\n",
        "  例 (Example): User: \"I goed to park yesterday.\" AI: \"Oh, nice! You mean, 'I went to the park yesterday,' right?\"\n",
        "\n",
        "# 入出力の例 (Input/Output Examples)\n",
        "User: \"Hello! How was your day?\" AI: \"Hey! My day's going great, thanks for asking. How about you?\"\n",
        "User: \"I'm study English today.\" AI: \"That's great! Just a quick tip: you'd say, 'I'm studying English today.' What are you working on right now?\"\n",
        "User: \"Can you help me about grammar?\" AI: \"Of course! I'd say, 'Can you help me with grammar?' Sure thing! What grammar point do you want to talk about?\" \"\"\"\n",
        "\n",
        "    # APIに渡すメッセージリストを作成\n",
        "    messages = [\n",
        "        {\"role\": \"system\", \"content\": system_prompt},\n",
        "        {\"role\": \"user\", \"content\": user_input} # 関数の引数で受け取ったユーザー入力を使う\n",
        "    ]\n",
        "\n",
        "    # OpenAI APIを呼び出す\n",
        "    response = client.chat.completions.create(\n",
        "        model=\"gpt-3.5-turbo\",\n",
        "        messages=messages,\n",
        "        max_tokens=100,\n",
        "        temperature=0.7\n",
        "    )\n",
        "\n",
        "    # AIの応答テキストを関数の結果として返す\n",
        "    return response.choices[0].message.content\n",
        "\n",
        "print(\"関数 'english_teacher_bot' を定義しました。\")"
      ],
      "metadata": {
        "id": "e0YxFa0Z0btJ"
      },
      "execution_count": null,
      "outputs": []
    },
    {
      "cell_type": "markdown",
      "source": [
        "----------------------------\n",
        "\n",
        "6. 関数テスト\n",
        "\n",
        "（作成した関数が正しく動作するか、いくつかの入力で試してみます）"
      ],
      "metadata": {
        "id": "IIs20Q_H0fY0"
      }
    },
    {
      "cell_type": "code",
      "source": [
        "# テスト1\n",
        "response1 = english_teacher_bot(\"Hi! How's it going?\")\n",
        "print(f\"入力1: Hi! How's it going?\")\n",
        "print(f\"応答1: {response1}\\n\")"
      ],
      "metadata": {
        "id": "SDUKZTxC0go0"
      },
      "execution_count": null,
      "outputs": []
    },
    {
      "cell_type": "code",
      "source": [
        "# テスト2\n",
        "response2 = english_teacher_bot(\"I learned new vocabulary yesterday.\")\n",
        "print(f\"入力2: I learned new vocabulary yesterday.\")\n",
        "print(f\"応答2: {response2}\")"
      ],
      "metadata": {
        "id": "BvpFl3DI4pij"
      },
      "execution_count": null,
      "outputs": []
    },
    {
      "cell_type": "markdown",
      "source": [
        "------------------------------\n",
        "\n",
        "\n",
        "7. Gradio Interface 作成\n",
        "\n",
        "Gradioのコンセプトは「関数」を「GUI化」すること。   \n",
        "作成した関数を使って、Webアプリの画面（インターフェース）を作ります"
      ],
      "metadata": {
        "id": "lP-bZcIq0jdz"
      }
    },
    {
      "cell_type": "code",
      "source": [
        "# gr.Interface を使ってUIを作成します\n",
        "bot_interface = gr.Interface(\n",
        "    fn=english_teacher_bot,  # このUIで使う関数を指定\n",
        "    inputs=\"text\",           # 入力はテキストボックス (シンプル指定)\n",
        "    outputs=\"text\",          # 出力もテキストボックス (シンプル指定)\n",
        "    title=\"英会話チャットボット\", # アプリのタイトル\n",
        "    description=\"英語で話しかけると、AI先生が返事してくれます。\" # 簡単な説明\n",
        ")\n",
        "\n",
        "print(\"Gradioインターフェースを作成しました。\")"
      ],
      "metadata": {
        "id": "pFXFMEG60mpQ"
      },
      "execution_count": null,
      "outputs": []
    },
    {
      "cell_type": "markdown",
      "source": [
        "--------------------------------\n",
        "\n",
        "8. Webアプリの起動\n",
        "\n",
        "作成したインターフェースを起動して、Webアプリとして使えるようにします。"
      ],
      "metadata": {
        "id": "zdTej0yv0ouA"
      }
    },
    {
      "cell_type": "code",
      "source": [
        "# 作成したUIを起動します\n",
        "# share=True にすると、一時的に外部からアクセスできるURLも生成されます\n",
        "bot_interface.launch(share=True)"
      ],
      "metadata": {
        "id": "AQGpBkno0qcf"
      },
      "execution_count": null,
      "outputs": []
    }
  ]
}