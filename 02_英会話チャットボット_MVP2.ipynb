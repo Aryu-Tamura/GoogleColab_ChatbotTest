{
  "nbformat": 4,
  "nbformat_minor": 0,
  "metadata": {
    "colab": {
      "private_outputs": true,
      "provenance": [],
      "authorship_tag": "ABX9TyOkIM9NkjhYzuX6SgOprSfV",
      "include_colab_link": true
    },
    "kernelspec": {
      "name": "python3",
      "display_name": "Python 3"
    },
    "language_info": {
      "name": "python"
    }
  },
  "cells": [
    {
      "cell_type": "markdown",
      "metadata": {
        "id": "view-in-github",
        "colab_type": "text"
      },
      "source": [
        "<a href=\"https://colab.research.google.com/github/Aryu-Tamura/GoogleColab_ChatbotTest/blob/main/02_%E8%8B%B1%E4%BC%9A%E8%A9%B1%E3%83%81%E3%83%A3%E3%83%83%E3%83%88%E3%83%9C%E3%83%83%E3%83%88_MVP2.ipynb\" target=\"_parent\"><img src=\"https://colab.research.google.com/assets/colab-badge.svg\" alt=\"Open In Colab\"/></a>"
      ]
    },
    {
      "cell_type": "markdown",
      "source": [
        "##**MVP2: 会話履歴の記憶**\n",
        "\n",
        "\n",
        "###**1. はじめに**\n",
        "\n",
        "\n",
        "**このノートブックの目的**\n",
        "\n",
        "MVP1では、AIと一問一答形式の対話ができましたが、AIは以前の発言を覚えていませんでした。このMVP2では、AIが会話の文脈（履歴）を記憶できるように改良します。これにより、より自然で人間らしい会話が可能になります。\n",
        "\n",
        "* MVP1の基本的なテキストチャット機能をベースにします。\n",
        "* 会話のやり取り（ユーザーの発言とAIの応答）を記憶させます。\n",
        "* 記憶した履歴を考慮してAIが応答するようにします。\n",
        "* 会話の履歴を画面に表示します。\n",
        "\n",
        "**完成イメージ**\n",
        "\n",
        "MVP1のチャット画面に加えて、過去のやり取りがチャット形式で表示されるようになります。AIは「前にこんな話をしたよね」ということを踏まえて応答してくれるようになります。\n",
        "\n",
        "**このステップで学ぶこと**\n",
        "\n",
        "* 会話履歴を保持する重要性とその方法\n",
        "* Gradioの `State` を使って、やり取りをまたいで情報（会話履歴）を保持する方法\n",
        "* 複数のUI部品（履歴表示、入力欄など）を組み合わせるための `Gradio Blocks` の基本的な使い方\n",
        "* よりチャットらしく履歴を表示する `gr.Chatbot` コンポーネントの使い方\n",
        "* 保持した履歴をChatGPT APIに渡して文脈を考慮させる方法\n",
        "\n",
        "\n",
        "###**2. 環境構築**\n",
        "\n",
        "基本的な環境構築はMVP1と同じです。必要なライブラリをインストールし、APIキーを設定します。\n",
        "\n",
        "**2.1. ライブラリのインストール**\n",
        "\n",
        "MVP1と同様に、`openai` と `gradio` ライブラリをインストールします。すでにインストール済みの場合も、最新版を使うために `--upgrade` をつけておくのがおすすめです。"
      ],
      "metadata": {
        "id": "c6_OTpn7aboH"
      }
    },
    {
      "cell_type": "code",
      "source": [
        "print(\"ライブラリをインストールします...\")\n",
        "!pip install --upgrade openai gradio\n",
        "print(\"インストールが完了しました。\")"
      ],
      "metadata": {
        "id": "7uMSMO0ebS7P"
      },
      "execution_count": null,
      "outputs": []
    },
    {
      "cell_type": "markdown",
      "source": [
        "**2.2. ライブラリのインポートとAPIキーの設定**\n",
        "\n",
        "MVP1と同様に、ライブラリをインポートし、Colab Secretsに保存したOpenAI APIキーを読み込みます。\n",
        "\n",
        "【再確認】APIキーの設定\n",
        "\n",
        "このノートブックを実行する前にも、Colabの左側メニュー（🔑アイコン）から `OPENAI_API_KEY` という名前でAPIキーが設定されていることを確認してください。"
      ],
      "metadata": {
        "id": "LtrU_q8fbYqN"
      }
    },
    {
      "cell_type": "code",
      "source": [
        "# --- ライブラリのインポート ---\n",
        "import os\n",
        "import gradio as gr\n",
        "from openai import OpenAI\n",
        "from google.colab import userdata\n",
        "\n",
        "# --- APIキーの設定とクライアント初期化 ---\n",
        "print(\"APIキーをColab Secretsから読み込み、OpenAIクライアントを初期化します...\")\n",
        "try:\n",
        "    api_key = userdata.get('OPENAI_API_KEY')\n",
        "    if api_key is None:\n",
        "        raise ValueError(\"APIキーが見つかりません。Colab Secretsに 'OPENAI_API_KEY' を設定してください。\")\n",
        "    client = OpenAI(api_key=api_key)\n",
        "    print(\"OpenAIクライアントの準備ができました！\")\n",
        "except Exception as e:\n",
        "    print(f\"エラーが発生しました: {e}\")\n",
        "    raise SystemExit(\"プログラムを終了します。\")"
      ],
      "metadata": {
        "id": "og5Z_jEQbgbD"
      },
      "execution_count": null,
      "outputs": []
    },
    {
      "cell_type": "markdown",
      "source": [
        "###**3. 会話履歴の管理と表示**\n",
        "\n",
        "AIに会話を記憶させるためには、「会話履歴」をデータとして保存し、APIに送る際にその履歴を渡す必要があります。Gradioでは、`gr.State` という特殊なコンポーネントを使うことで、ユーザーとのやり取り（ボタンクリックなど）をまたいでデータを保持できます。\n",
        "\n",
        "**3.1. 会話履歴のデータ形式**\n",
        "\n",
        "OpenAI APIに渡す会話履歴は、通常以下のような「辞書(Dictionary)のリスト(List)」形式で表現されます。"
      ],
      "metadata": {
        "id": "5BU0BNMFbjhC"
      }
    },
    {
      "cell_type": "code",
      "source": [
        "[\n",
        "  {'role': 'system', 'content': 'あなたは英語教師AIです...'},\n",
        "  {'role': 'user', 'content': 'Hello!'},\n",
        "  {'role': 'assistant', 'content': 'Hi there! How can I help you today?'},\n",
        "  {'role': 'user', 'content': 'Can you explain present perfect?'}\n",
        "  # ... このように会話が続く\n",
        "]"
      ],
      "metadata": {
        "id": "2HRgASCWbyJa"
      },
      "execution_count": null,
      "outputs": []
    },
    {
      "cell_type": "markdown",
      "source": [
        "* `role`: その発言が誰によるものかを示します (`system`, `user`, `assistant`)。\n",
        "* `content`: 発言の具体的な内容です。\n",
        "\n",
        "**3.2. Gradio `State` と `Chatbot`**\n",
        "\n",
        "* `gr.State`: 見た目には表示されませんが、裏側でデータを保持し続けるためのコンポーネントです。今回は、上記の会話履歴リストをこの `gr.State` に保存します。\n",
        "* `gr.Chatbot`: 会話履歴をLINEやSlackのようなチャット形式で表示するためのUIコンポーネントです。このコンポーネントは、以下のような形式のリストを期待します。"
      ],
      "metadata": {
        "id": "c-Sxr9rKb6lC"
      }
    },
    {
      "cell_type": "code",
      "source": [
        "[\n",
        "  [ユーザーの発言1, AIの応答1],\n",
        "  [ユーザーの発言2, AIの応答2],\n",
        "  # ...\n",
        "]"
      ],
      "metadata": {
        "id": "cWstrG3Mb5G_"
      },
      "execution_count": null,
      "outputs": []
    },
    {
      "cell_type": "markdown",
      "source": [
        "そのため、内部で保持している履歴リスト（辞書のリスト）を、`gr.Chatbot` が表示できる形式（リストのリスト）に変換する関数が必要になります。\n",
        "\n",
        "**3.3. 履歴をChatbot形式に整形する関数**\n",
        "\n",
        "内部で管理している履歴リスト（`[{'role': ..., 'content': ...}, ...]`）を、`gr.Chatbot` が表示できる形式（`[[user_msg, assistant_msg], ...]`）に変換する関数を作成します。"
      ],
      "metadata": {
        "id": "ZVBPdIRjcUNY"
      }
    },
    {
      "cell_type": "code",
      "source": [
        "# --- 会話履歴をChatbot形式に整形する関数 ---\n",
        "def format_history_for_chatbot(history_list):\n",
        "    \"\"\"\n",
        "    会話履歴（辞書のリスト）をGradioのChatbotコンポーネントに適した形式に整形します。\n",
        "    システムプロンプトは表示から除外します。\n",
        "    Args:\n",
        "        history_list (list): OpenAI API形式の履歴リスト。\n",
        "    Returns:\n",
        "        list: Gradio Chatbot形式のリスト。例: [[\"Hello\", \"Hi there!\"], [\"How are you?\", \"I'm fine.\"]]\n",
        "    \"\"\"\n",
        "    if not history_list or len(history_list) <= 1: # 履歴が空かシステムプロンプトのみの場合は空リストを返す\n",
        "        return []\n",
        "\n",
        "    chatbot_format = []\n",
        "    # 最初のユーザーメッセージ（インデックス1）から開始し、2つずつ（ユーザーとアシスタントのペア）処理します\n",
        "    for i in range(1, len(history_list), 2):\n",
        "        # ユーザーメッセージを取得\n",
        "        user_msg = history_list[i]['content']\n",
        "        assistant_msg = None # AIの応答がまだない場合もあるため、Noneで初期化\n",
        "\n",
        "        # 次の要素が存在し、それがアシスタントの応答であれば取得します\n",
        "        if i + 1 < len(history_list) and history_list[i+1]['role'] == 'assistant':\n",
        "            assistant_msg = history_list[i+1]['content']\n",
        "\n",
        "        # [ユーザーメッセージ, AI応答] のペアをリストに追加します\n",
        "        chatbot_format.append([user_msg, assistant_msg])\n",
        "\n",
        "    print(\"履歴をChatbot表示用に整形しました。\")\n",
        "    return chatbot_format\n",
        "\n",
        "# --- テストデータで関数の動作を確認 ---\n",
        "test_history = [\n",
        "    {'role': 'system', 'content': '...'},\n",
        "    {'role': 'user', 'content': 'Hello!'},\n",
        "    {'role': 'assistant', 'content': 'Hi there!'},\n",
        "    {'role': 'user', 'content': 'How are you?'} # AIの応答がまだない状態\n",
        "]\n",
        "formatted = format_history_for_chatbot(test_history)\n",
        "print(f\"テスト履歴: {test_history}\")\n",
        "print(f\"整形後: {formatted}\") # 期待値: [['Hello!', 'Hi there!'], ['How are you?', None]]"
      ],
      "metadata": {
        "id": "vXuJvyG3cfCD"
      },
      "execution_count": null,
      "outputs": []
    },
    {
      "cell_type": "markdown",
      "source": [
        "この関数は、システムプロンプトを無視し、ユーザーの発言とそれに対応するAIの応答をペアにしてリスト化します。\n",
        "\n",
        "###**4. 履歴を考慮したAI応答関数の作成**\n",
        "\n",
        "MVP1で作成した `get_english_response` 関数を改良し、会話履歴を考慮するようにします。Gradioの `State` と連携させるため、関数の引数と戻り値も変更します。"
      ],
      "metadata": {
        "id": "mt6q-542cj-C"
      }
    },
    {
      "cell_type": "code",
      "source": [
        "# --- 履歴を考慮して応答するメイン関数 ---\n",
        "def chatbot_interface_fn(user_input, current_history_state):\n",
        "    \"\"\"\n",
        "    Gradioインターフェースから呼び出される関数。\n",
        "    ユーザー入力と現在の履歴(State)を受け取り、AIに応答させ、\n",
        "    UI表示用のデータと更新された履歴(State)を返す。\n",
        "    Args:\n",
        "        user_input (str): ユーザーがテキストボックスに入力した内容。\n",
        "        current_history_state (list or None): GradioのStateから渡される現在の会話履歴。\n",
        "    Returns:\n",
        "        tuple: (\n",
        "            str: 入力テキストボックスをクリアするための空文字列,\n",
        "            list: Chatbot表示用に整形された履歴,\n",
        "            list: 更新された会話履歴 (Stateに保存される)\n",
        "        )\n",
        "    \"\"\"\n",
        "    print(f\"\\n--- 関数 chatbot_interface_fn 実行 ---\")\n",
        "    print(f\"ユーザー入力: '{user_input}'\")\n",
        "    print(f\"入力時の履歴 (Stateから): {current_history_state}\")\n",
        "\n",
        "    # --- 1. 履歴の初期化または読み込み ---\n",
        "    # Stateから渡された履歴リストを使用。もし初めての呼び出しでNoneなら空リストで初期化。\n",
        "    history = current_history_state or []\n",
        "\n",
        "    # 履歴が空、または最初の要素がシステムプロンプトでない場合、システムプロンプトを追加\n",
        "    if not history or history[0][\"role\"] != \"system\":\n",
        "        # ★★★ MVP1と同じシステムプロンプトを設定 ★★★\n",
        "        system_prompt = \"\"\"You are an English teacher AI that conducts natural and fluent English conversations with the user.\n",
        "Role: - Engage in natural, everyday English conversation to improve the user's English proficiency. - If there are mistakes in expression or grammar, point them out appropriately within the natural flow of conversation and suggest the correct expression. - Respond empathetically and positively to the user's questions and statements.\n",
        "Output Format: - Conversations are always in English. - Responses should generally be short (about 1-3 sentences) and use natural colloquial expressions. - If the user makes a grammatical or expressive mistake, provide a correction example in the following format:  Example: User: \"I goed to park yesterday.\" AI: \"Oh, nice! You mean, 'I went to the park yesterday,' right?\"\n",
        "Input/Output Examples: User: \"Hello! How was your day?\" AI: \"Hey! My day's going great, thanks for asking. How about you?\" User: \"I'm study English today.\" AI: \"That's great! Just a quick tip: you'd say, 'I'm studying English today.' What are you working on right now?\" User: \"Can you help me about grammar?\" AI: \"Of course! I'd say, 'Can you help me with grammar?' Sure thing! What grammar point do you want to talk about?\" \"\"\"\n",
        "        history.insert(0, {\"role\": \"system\", \"content\": system_prompt})\n",
        "        print(\"システムプロンプトを履歴の最初に追加しました。\")\n",
        "\n",
        "    # --- 2. ユーザー入力を履歴に追加 ---\n",
        "    # 入力が空でない場合のみ履歴に追加\n",
        "    if user_input:\n",
        "        history.append({\"role\": \"user\", \"content\": user_input})\n",
        "        print(\"ユーザー入力を履歴に追加しました。\")\n",
        "    else:\n",
        "        # 入力が空の場合は、現在の履歴をそのまま表示して終了\n",
        "        print(\"ユーザー入力が空です。\")\n",
        "        formatted_chat = format_history_for_chatbot(history)\n",
        "        # 入力欄はクリアせず、現在のチャット表示と履歴Stateを返す\n",
        "        return user_input, formatted_chat, history\n",
        "\n",
        "    # --- 3. OpenAI APIを呼び出し、応答を取得 ---\n",
        "    try:\n",
        "        print(\"ChatGPT APIに応答をリクエストします...\")\n",
        "        response = client.chat.completions.create(\n",
        "            model=\"gpt-3.5-turbo\",\n",
        "            messages=history, # ★★★ ここで現在の全履歴を渡すのがポイント！ ★★★\n",
        "            max_tokens=150,\n",
        "            temperature=0.7,\n",
        "        )\n",
        "        assistant_response = response.choices[0].message.content\n",
        "        print(f\"AI応答取得成功: '{assistant_response}'\")\n",
        "\n",
        "        # --- 4. AIの応答を履歴に追加 ---\n",
        "        history.append({\"role\": \"assistant\", \"content\": assistant_response})\n",
        "        print(\"AI応答を履歴に追加しました。\")\n",
        "\n",
        "    # --- 5. エラー処理 ---\n",
        "    except Exception as e:\n",
        "        print(f\"API呼び出し中にエラーが発生しました: {e}\")\n",
        "        # エラーが発生した場合、エラーメッセージをAIの応答として履歴に追加することも可能\n",
        "        # history.append({\"role\": \"assistant\", \"content\": f\"エラーが発生しました: {e}\"})\n",
        "        # 今回はエラー発生前の履歴を返すことにする (直前のユーザー入力は含む)\n",
        "        pass # エラーが起きても下の処理に進み、エラー発生時点の履歴を表示\n",
        "\n",
        "    # --- 6. UI表示用に履歴を整形し、結果を返す ---\n",
        "    formatted_chat = format_history_for_chatbot(history)\n",
        "    print(f\"最終的な履歴 (Stateへ保存): {history}\")\n",
        "    # 戻り値: 入力欄クリア用\"\", 整形済みチャット履歴, 更新後の履歴State\n",
        "    return \"\", formatted_chat, history"
      ],
      "metadata": {
        "id": "rA60fFQWcq1S"
      },
      "execution_count": null,
      "outputs": []
    },
    {
      "cell_type": "markdown",
      "source": [
        "主な変更点（MVP1の関数と比較）:\n",
        "\n",
        "* 引数の変更: ユーザー入力 `user_input` に加えて、現在の履歴 `current_history_state` を受け取るようにしました。\n",
        "* Stateの利用: 受け取った `current_history_state` を使って会話履歴 `history` を管理します。初めての実行などで `current_history_state` が空（None）の場合は、システムプロンプトを追加して初期化します。\n",
        "* API呼び出し時の`messages`: APIに渡す `messages` に、システムプロンプトを含む現在の `history` リスト全体を渡します。これにより、AIは過去の文脈を理解できます。\n",
        "* 履歴の更新: ユーザー入力とAIの応答を `history` リストに追加します。\n",
        "* 戻り値の変更: UIを更新するために、以下の3つの値をタプルとして返します。\n",
        " 1. 入力テキストボックスをクリアするための空文字列 `\"\"`。\n",
        " 2. `gr.Chatbot` で表示するために整形された履歴リスト (`formatted_chat`)。\n",
        " 3. 更新された会話履歴リスト (`history`)。これが次の呼び出しのために `gr.State` に保存されます。\n",
        "\n",
        "\n",
        "###**5. Gradio UIの更新 (BlocksとChatbotを使用)**\n",
        "\n",
        "MVP1では `gr.Interface` を使いましたが、履歴表示エリアなどを追加するために、より柔軟なレイアウトが可能な `gr.Blocks` を使ってUIを構築します。また、`gr.State` と `gr.Chatbot` コンポーネントを使用します。"
      ],
      "metadata": {
        "id": "aYap0Qo1cwBI"
      }
    },
    {
      "cell_type": "code",
      "source": [
        "# --- Gradio UIの構築 (Blocksを使用) ---\n",
        "print(\"Gradioインターフェースを構築します...\")\n",
        "\n",
        "# gr.Blocks() を使うと、より自由にコンポーネントを配置できます\n",
        "with gr.Blocks(theme=gr.themes.Soft()) as app: # themeで見栄えを少し良くする\n",
        "    gr.Markdown(\"# MVP2: English Chatbot with History\") # タイトル\n",
        "    gr.Markdown(\"AIが会話履歴を記憶します。文脈に沿った会話をしてみましょう。\") # 説明\n",
        "\n",
        "    # 1. 会話履歴を保持するためのState変数 (非表示コンポーネント)\n",
        "    # 初期値は空リスト。関数側でシステムプロンプトが追加される。\n",
        "    chat_history_state = gr.State([])\n",
        "\n",
        "    # 2. チャット履歴表示用コンポーネント\n",
        "    # labelで名前をつけ、heightで高さを指定できます\n",
        "    chatbot_display = gr.Chatbot(label=\"Conversation\", height=500)\n",
        "\n",
        "    # 3. ユーザー入力用テキストボックス\n",
        "    user_textbox = gr.Textbox(\n",
        "        label=\"Your Message\",\n",
        "        placeholder=\"Type your message in English and press Enter...\",\n",
        "        # scale=7 # 同じRow内の他の要素との幅の比率を指定（オプション）\n",
        "    )\n",
        "\n",
        "    # (オプション) 送信ボタン。今回はEnterキーでの送信をメインにするのでコメントアウト\n",
        "    # send_button = gr.Button(\"Send\", scale=1) # scaleで幅の比率を指定\n",
        "\n",
        "    # --- イベントリスナーの設定 ---\n",
        "    # テキストボックスでEnterキーが押されたら、chatbot_interface_fn関数を実行\n",
        "    user_textbox.submit(\n",
        "        fn=chatbot_interface_fn,              # 呼び出す関数\n",
        "        inputs=[user_textbox, chat_history_state], # 関数に渡す入力 (テキストボックスの内容, 現在の履歴State)\n",
        "        outputs=[user_textbox, chatbot_display, chat_history_state] # 関数の戻り値の送り先 (入力欄クリア, チャット表示更新, 履歴State更新)\n",
        "    )\n",
        "\n",
        "    # (オプション) ボタンがクリックされた場合も同じ関数を実行\n",
        "    # send_button.click(...)\n",
        "\n",
        "print(\"インターフェースの定義が完了しました。\")"
      ],
      "metadata": {
        "id": "xjrqBYmOdfHf"
      },
      "execution_count": null,
      "outputs": []
    },
    {
      "cell_type": "markdown",
      "source": [
        "コードの解説:\n",
        "\n",
        "* `with gr.Blocks() as app:`: `gr.Blocks` を使ってUI構築を開始します。この `with` ブロック内にUIコンポーネントを定義していきます。\n",
        "* `gr.State([])`: 会話履歴を保持するための `State` コンポーネントを定義します。初期値は空のリスト `[]` です。\n",
        "* `gr.Chatbot(...)`: 会話履歴を表示するための `Chatbot` コンポーネントです。`label` や `height` を設定できます。\n",
        "* `gr.Textbox(...)`: ユーザーがメッセージを入力するためのテキストボックスです。\n",
        "* `user_textbox.submit(...)`: この設定により、ユーザーがテキストボックス内で Enterキーを押したとき に指定した関数 (`chatbot_interface_fn`) が実行されるようになります。\n",
        " * `inputs=[user_textbox, chat_history_state]`: 関数に渡す引数をリストで指定します。テキストボックスの内容と、現在の `chat_history_state` の値が渡されます。\n",
        " * `outputs=[user_textbox, chatbot_display, chat_history_state]`: 関数の戻り値（タプル）が、どのUIコンポーネントに反映されるかをリストで指定します。\n",
        "   1. 戻り値の1番目（空文字列 `\"\"`）が `user_textbox` に渡され、入力欄がクリアされます。\n",
        "   2. 戻り値の2番目（整形済み履歴 `formatted_chat`）が `chatbot_display` に渡され、チャット表示が更新されます。\n",
        "   3. 戻り値の3番目（更新後履歴 `history`）が `chat_history_state` に渡され、Stateが更新されます。\n",
        "\n",
        "###**6. アプリケーションの起動**\n",
        "\n",
        "最後に、作成したGradioアプリケーションを起動します。"
      ],
      "metadata": {
        "id": "dP4Hmd8NdnRm"
      }
    },
    {
      "cell_type": "code",
      "source": [
        "# --- アプリケーションの起動 ---\n",
        "print(\"Gradioアプリケーションを起動します...\")\n",
        "app.launch(share=True, debug=True)\n",
        "print(\"アプリが起動しました！\")"
      ],
      "metadata": {
        "id": "FikVdUCqdm6X"
      },
      "execution_count": null,
      "outputs": []
    },
    {
      "cell_type": "markdown",
      "source": [
        "実行結果:\n",
        "\n",
        "セルを実行すると、MVP1よりもリッチなチャット画面が表示されます。テキストを入力してEnterキーを押すと、AIからの応答と共に、過去のやり取りがチャット形式で上に積み重なって表示されるはずです。何度か会話を続けてみて、AIが以前の発言を覚えているか確認してみてください。\n",
        "\n"
      ],
      "metadata": {
        "id": "uB34uVdLemfi"
      }
    }
  ]
}